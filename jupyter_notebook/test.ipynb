{
 "cells": [
  {
   "cell_type": "code",
   "execution_count": 1,
   "metadata": {},
   "outputs": [],
   "source": [
    "import sys\n",
    "import numpy as np\n",
    "import torch\n",
    "import torch.nn as nn\n",
    "import torch.optim as optim\n",
    "from torch.utils.data import DataLoader, TensorDataset, random_split\n",
    "base_path = \"../src/\"\n",
    "sys.path.append(base_path)\n",
    "from models import *\n",
    "from train import *\n",
    "from losses import *\n",
    "\n",
    "device = torch.device(\"cuda\" if torch.cuda.is_available() else \"cpu\")"
   ]
  },
  {
   "cell_type": "code",
   "execution_count": 2,
   "metadata": {},
   "outputs": [
    {
     "data": {
      "application/vnd.jupyter.widget-view+json": {
       "model_id": "a568cfb0523a4b57894f0e3736a15f08",
       "version_major": 2,
       "version_minor": 0
      },
      "text/plain": [
       "Training:   0%|          | 0/100 [00:00<?, ?iter/s]"
      ]
     },
     "metadata": {},
     "output_type": "display_data"
    },
    {
     "name": "stdout",
     "output_type": "stream",
     "text": [
      "[Iter   10] validation loss: 1.2051\n",
      "[Iter   20] validation loss: 1.1877\n",
      "[Iter   30] validation loss: 1.1780\n",
      "[Iter   40] validation loss: 1.1632\n",
      "[Iter   50] validation loss: 1.1478\n",
      "[Iter   60] validation loss: 1.1277\n",
      "[Iter   70] validation loss: 1.1326\n",
      "[Iter   80] validation loss: 1.1304\n",
      "[Iter   90] validation loss: 1.1272\n",
      "[Iter  100] validation loss: 1.1656\n"
     ]
    }
   ],
   "source": [
    "# Hyperparameters\n",
    "input_dim    = 28 * 28\n",
    "hidden_dims  = [128, 64]\n",
    "output_dim   = 1\n",
    "lr           = 1e-3\n",
    "epochs       = 100\n",
    "val_fraction = 0.2 \n",
    "batch_size   = 64\n",
    "\n",
    "\n",
    "# Create a single TensorDataset, then split inside `fit()`\n",
    "x = torch.randn(1000, input_dim)\n",
    "y = torch.randn(1000, output_dim)\n",
    "full_dataset = TensorDataset(x, y)\n",
    "\n",
    "# -- split into train / val --\n",
    "n_val   = int(len(full_dataset) * val_fraction)\n",
    "n_train = len(full_dataset) - n_val\n",
    "train_ds, val_ds = random_split(full_dataset, [n_train, n_val])\n",
    "\n",
    "train_loader = DataLoader(train_ds, batch_size=batch_size, shuffle=True)\n",
    "val_loader   = DataLoader(val_ds,   batch_size=batch_size, shuffle=False)\n",
    "\n",
    "# model, optimizer, loss function\n",
    "model     = SimpleMLP(input_dim, hidden_dims, output_dim).to(device)\n",
    "optimizer = optim.Adam(model.parameters(), lr=lr)\n",
    "criterion = MSELoss()\n",
    "\n",
    "fit(model, train_loader, val_loader, optimizer, criterion, device, epochs)"
   ]
  },
  {
   "cell_type": "code",
   "execution_count": null,
   "metadata": {},
   "outputs": [],
   "source": []
  }
 ],
 "metadata": {
  "kernelspec": {
   "display_name": "torch",
   "language": "python",
   "name": "python3"
  },
  "language_info": {
   "codemirror_mode": {
    "name": "ipython",
    "version": 3
   },
   "file_extension": ".py",
   "mimetype": "text/x-python",
   "name": "python",
   "nbconvert_exporter": "python",
   "pygments_lexer": "ipython3",
   "version": "3.10.13"
  }
 },
 "nbformat": 4,
 "nbformat_minor": 2
}
